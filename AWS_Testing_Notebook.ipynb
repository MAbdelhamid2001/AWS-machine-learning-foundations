{
 "cells": [
  {
   "cell_type": "markdown",
   "id": "40bdd5f0",
   "metadata": {},
   "source": [
    "## Activate ** Autocomplete ** on Jupyter\n",
    "### `jupyter contrib nbextension install`\n",
    "### `jupyter nbextension enable hinterland/hinterland`\n"
   ]
  },
  {
   "cell_type": "markdown",
   "id": "2d3ab68a",
   "metadata": {},
   "source": [
    "## RunTime\n",
    "#### `%%time` or\n",
    "#### `%timeit` for a single line code\n",
    "#### `%%timeit` for avg runtime over loops\n"
   ]
  },
  {
   "cell_type": "code",
   "execution_count": 1,
   "id": "8582e9ec",
   "metadata": {},
   "outputs": [
    {
     "name": "stdout",
     "output_type": "stream",
     "text": [
      "Wall time: 430 ms\n"
     ]
    }
   ],
   "source": [
    "%%time\n",
    "\n",
    "# magic\n",
    "for i in range(1000000):\n",
    "    i = i**3"
   ]
  },
  {
   "cell_type": "code",
   "execution_count": 2,
   "id": "b85f10f9",
   "metadata": {},
   "outputs": [
    {
     "name": "stdout",
     "output_type": "stream",
     "text": [
      "35 ms ± 429 µs per loop (mean ± std. dev. of 7 runs, 10 loops each)\n"
     ]
    }
   ],
   "source": [
    "%%timeit\n",
    "for i in range(100000):\n",
    "    i = i**3"
   ]
  },
  {
   "cell_type": "code",
   "execution_count": 3,
   "id": "a91d40c0",
   "metadata": {
    "scrolled": true
   },
   "outputs": [
    {
     "name": "stdout",
     "output_type": "stream",
     "text": [
      "38.1 ms ± 314 µs per loop (mean ± std. dev. of 7 runs, 10 loops each)\n"
     ]
    }
   ],
   "source": [
    "%timeit L = [i ** 3 for i in range(100000)]"
   ]
  },
  {
   "cell_type": "markdown",
   "id": "48b5f6d7",
   "metadata": {},
   "source": [
    "# Memory Usage"
   ]
  },
  {
   "cell_type": "code",
   "execution_count": 6,
   "id": "f9023e9e",
   "metadata": {},
   "outputs": [
    {
     "data": {
      "text/plain": [
       "[('__builtins__', 61),\n",
       " ('__builtin__', 60),\n",
       " ('__package__', 60),\n",
       " ('get_ipython', 60),\n",
       " ('__loader__', 59),\n",
       " ('variables', 58),\n",
       " ('__name__', 57),\n",
       " ('__spec__', 57),\n",
       " ('__doc__', 56),\n",
       " ('_iii', 53),\n",
       " ('exit', 53),\n",
       " ('quit', 53),\n",
       " ('Out', 52),\n",
       " ('___', 52),\n",
       " ('_dh', 52),\n",
       " ('_i1', 52),\n",
       " ('_i2', 52),\n",
       " ('_i3', 52),\n",
       " ('_i4', 52),\n",
       " ('_i5', 52),\n",
       " ('_i6', 52),\n",
       " ('_ih', 52),\n",
       " ('_ii', 52),\n",
       " ('_oh', 52),\n",
       " ('sys', 52),\n",
       " ('In', 51),\n",
       " ('__', 51),\n",
       " ('_i', 51),\n",
       " ('_', 50),\n",
       " ('i', 50)]"
      ]
     },
     "execution_count": 6,
     "metadata": {},
     "output_type": "execute_result"
    }
   ],
   "source": [
    "import sys; sorted([(x, sys.getsizeof(x)) for x in dir()], key=lambda x: x[1], reverse=True)"
   ]
  },
  {
   "cell_type": "code",
   "execution_count": 7,
   "id": "1d10ab30",
   "metadata": {},
   "outputs": [
    {
     "data": {
      "text/plain": [
       "[('variables', 104), ('i', 32)]"
      ]
     },
     "execution_count": 7,
     "metadata": {},
     "output_type": "execute_result"
    }
   ],
   "source": [
    "import sys\n",
    "\n",
    "# These are the usual ipython objects, including this one you are creating\n",
    "ipython_vars = ['In', 'Out', 'exit', 'quit', 'get_ipython', 'ipython_vars']\n",
    "\n",
    "# Get a sorted list of the objects and their sizes\n",
    "sorted([(x, sys.getsizeof(globals().get(x))) for x in dir() if not x.startswith('_') and x not in sys.modules and x not in ipython_vars], key=lambda x: x[1], reverse=True)"
   ]
  },
  {
   "cell_type": "markdown",
   "id": "326fbcfd",
   "metadata": {},
   "source": [
    "## pycodestyle_magic\n",
    "### A great code checking to be clean and modular according to pep8 Guide lines\n",
    "\n",
    "#### Make sure you've the Python package `pycodestyle`, `flake8` and this `pycodestyle_magic`.by using the following code\n",
    "`pip install flake8 pycodestyle_magic`or \n",
    "`!pip install pycodestyle pycodestyle_magic`\n",
    "\n",
    "#### Enable the magic function by using the pycodestyle_magic module in a cell\n",
    "\n",
    "`%load_ext pycodestyle_magic`\n",
    "\n",
    "### in your first cell line write one of the following\n",
    "****\n",
    "#### to check only one cell\n",
    "\n",
    "`%%pycodestyle`\n",
    "or \n",
    "`%%flake8`\n",
    "\n",
    "#### to auto check all cells \n",
    "\n",
    "`%pycodestyle_on`\n",
    "or\n",
    "`%flake8_on`"
   ]
  },
  {
   "cell_type": "code",
   "execution_count": 4,
   "id": "62ea3cc5",
   "metadata": {},
   "outputs": [],
   "source": [
    "%load_ext pycodestyle_magic\n"
   ]
  },
  {
   "cell_type": "code",
   "execution_count": 5,
   "id": "22ff5a2c",
   "metadata": {},
   "outputs": [],
   "source": [
    "%%flake8\n",
    "a = 1"
   ]
  },
  {
   "cell_type": "code",
   "execution_count": 6,
   "id": "18b848d2",
   "metadata": {},
   "outputs": [],
   "source": [
    "%%pycodestyle\n",
    "def square_of_number(\n",
    "     num1, num2, num3, \n",
    "     num4):\n",
    "    return num1**2, num2**2, num3**2, num4**2"
   ]
  },
  {
   "cell_type": "code",
   "execution_count": 7,
   "id": "707cb658",
   "metadata": {},
   "outputs": [],
   "source": [
    "%pycodestyle_on"
   ]
  },
  {
   "cell_type": "code",
   "execution_count": 8,
   "id": "3fc56d13",
   "metadata": {},
   "outputs": [],
   "source": [
    "print(2 == 2)"
   ]
  },
  {
   "cell_type": "code",
   "execution_count": 9,
   "id": "bf04af5c",
   "metadata": {},
   "outputs": [],
   "source": [
    "x = 2\n",
    "print(x == 2)"
   ]
  },
  {
   "cell_type": "code",
   "execution_count": 10,
   "id": "736396c5",
   "metadata": {},
   "outputs": [],
   "source": [
    "%flake8_on"
   ]
  },
  {
   "cell_type": "code",
   "execution_count": 11,
   "id": "d5e2b3c8",
   "metadata": {},
   "outputs": [
    {
     "name": "stderr",
     "output_type": "stream",
     "text": [
      "4:1: E302 expected 2 blank lines, found 1\n",
      "5:1: W293 blank line contains whitespace\n",
      "8:1: W293 blank line contains whitespace\n"
     ]
    }
   ],
   "source": [
    "# BAD\n",
    "import numpy as np\n",
    "\n",
    "class Calculator:\n",
    "    \n",
    "    def Plus(self, x, y):\n",
    "        return np.sum(x, y)\n",
    "    \n",
    "    def Minus(self, x, y):\n",
    "        return np.sum(x, -y)"
   ]
  },
  {
   "cell_type": "code",
   "execution_count": 13,
   "id": "95422de3",
   "metadata": {},
   "outputs": [],
   "source": [
    "# GOOD\n",
    "import numpy as np\n",
    "\n",
    "\n",
    "class Calculator:\n",
    "    def add(self, x, y):\n",
    "        return np.sum(x, y)\n",
    "\n",
    "    def subtract(self, x, y):\n",
    "        return np.subtract(x, y)"
   ]
  },
  {
   "cell_type": "code",
   "execution_count": 14,
   "id": "82c3b2d1",
   "metadata": {},
   "outputs": [
    {
     "name": "stderr",
     "output_type": "stream",
     "text": [
      "2:13: E401 multiple imports on one line\n"
     ]
    }
   ],
   "source": [
    "# BAD\n",
    "import numpy, scipy, io, os"
   ]
  },
  {
   "cell_type": "code",
   "execution_count": 15,
   "id": "e5c65758",
   "metadata": {},
   "outputs": [],
   "source": [
    "# GOOD\n",
    "# python packages first\n",
    "import os\n",
    "import io\n",
    "\n",
    "# extra packages\n",
    "import numpy\n",
    "import scipy"
   ]
  },
  {
   "cell_type": "markdown",
   "id": "b4f2f2b9",
   "metadata": {},
   "source": [
    "## RISE\n",
    "### RISE allows you to instantly turn your Jupyter Notebooks into a slideshow\n",
    "#### `conda install -c conda-forge rise` or `pip install RISE`"
   ]
  },
  {
   "cell_type": "markdown",
   "id": "bb666f12",
   "metadata": {},
   "source": [
    "## $P(A \\mid B) = \\frac{P(B \\mid A)P(A)}{P(B)}$"
   ]
  },
  {
   "cell_type": "code",
   "execution_count": null,
   "id": "a113fe93",
   "metadata": {},
   "outputs": [],
   "source": []
  }
 ],
 "metadata": {
  "kernelspec": {
   "display_name": "Python 3",
   "language": "python",
   "name": "python3"
  },
  "language_info": {
   "codemirror_mode": {
    "name": "ipython",
    "version": 3
   },
   "file_extension": ".py",
   "mimetype": "text/x-python",
   "name": "python",
   "nbconvert_exporter": "python",
   "pygments_lexer": "ipython3",
   "version": "3.8.8"
  }
 },
 "nbformat": 4,
 "nbformat_minor": 5
}
