{
 "cells": [
  {
   "cell_type": "code",
   "execution_count": 2,
   "id": "9b1b9489",
   "metadata": {
    "scrolled": true
   },
   "outputs": [
    {
     "name": "stdout",
     "output_type": "stream",
     "text": [
      "1000\n",
      "1200\n",
      "1400\n",
      "2000\n"
     ]
    }
   ],
   "source": [
    "class Shirt:\n",
    "    def __init__(self,size): #self is like a dictionary that hold attributes and its values\n",
    "        self.size=size\n",
    "    def tprice(self):\n",
    "        return self.size *20\n",
    "collect=[]\n",
    "x=Shirt(50)\n",
    "y=Shirt(60)\n",
    "z=Shirt(70)\n",
    "\n",
    "collect.append(x)\n",
    "collect.append(y)\n",
    "collect.append(z)\n",
    "for i in range(len(collect)):\n",
    "    print(collect[i].tprice())\n",
    "\n",
    "x.size=100 ##access the attribute directly\n",
    "print(x.tprice())"
   ]
  },
  {
   "cell_type": "code",
   "execution_count": 28,
   "id": "abd920cd",
   "metadata": {},
   "outputs": [],
   "source": [
    "class cloth:\n",
    "    def __init__(self,size):\n",
    "        self.size=size"
   ]
  },
  {
   "cell_type": "code",
   "execution_count": 34,
   "id": "4624996a",
   "metadata": {},
   "outputs": [],
   "source": [
    "class Shirt(cloth):\n",
    "    def __init__(self,size,price): #self is like a dictionary that hold attributes and its values\n",
    "        cloth.__init__(self,size)\n",
    "        self.price=price\n",
    "    def tprice(self):\n",
    "        return self.price *20"
   ]
  },
  {
   "cell_type": "code",
   "execution_count": 35,
   "id": "1ecca11d",
   "metadata": {},
   "outputs": [],
   "source": [
    "T=Shirt(50,100)"
   ]
  },
  {
   "cell_type": "code",
   "execution_count": 37,
   "id": "62cbccbf",
   "metadata": {},
   "outputs": [
    {
     "name": "stdout",
     "output_type": "stream",
     "text": [
      "2000\n"
     ]
    }
   ],
   "source": [
    "print(T.tprice())"
   ]
  },
  {
   "cell_type": "code",
   "execution_count": null,
   "id": "15ea1717",
   "metadata": {},
   "outputs": [],
   "source": []
  }
 ],
 "metadata": {
  "kernelspec": {
   "display_name": "Python 3",
   "language": "python",
   "name": "python3"
  },
  "language_info": {
   "codemirror_mode": {
    "name": "ipython",
    "version": 3
   },
   "file_extension": ".py",
   "mimetype": "text/x-python",
   "name": "python",
   "nbconvert_exporter": "python",
   "pygments_lexer": "ipython3",
   "version": "3.8.8"
  }
 },
 "nbformat": 4,
 "nbformat_minor": 5
}
